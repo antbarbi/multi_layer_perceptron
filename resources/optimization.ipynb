{
 "cells": [
  {
   "cell_type": "markdown",
   "metadata": {},
   "source": [
    "## Summary of Optimization Algorithms\n",
    "\n",
    "| Optimizer | Adaptive Learning Rates | Momentum | Requires More Memory | Best For |\n",
    "|-----------|-------------------------|----------|----------------------|----------|\n",
    "| SGD       | No                      | No       | Low                  | Large datasets, simple models |\n",
    "| Momentum  | No                      | Yes      | Low                  | Faster convergence, models with ravines in loss surface |\n",
    "| Adagrad   | Yes                     | No       | Medium               | Sparse data |\n",
    "| RMSProp   | Yes                     | No       | Medium               | Non-stationary objectives |\n",
    "| Adam      | Yes                     | Yes      | High                 | Wide range of applications, generally a good default choice |\n",
    "| Adadelta  | Yes                     | No       | Medium               | When you prefer not to set learning rates manually |\n"
   ]
  }
 ],
 "metadata": {
  "language_info": {
   "name": "python"
  }
 },
 "nbformat": 4,
 "nbformat_minor": 2
}
